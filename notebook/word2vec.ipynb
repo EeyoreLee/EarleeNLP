{
 "cells": [
  {
   "cell_type": "code",
   "execution_count": 2,
   "id": "09b768ad",
   "metadata": {},
   "outputs": [
    {
     "name": "stderr",
     "output_type": "stream",
     "text": [
      "/root/miniconda3/envs/torch16/lib/python3.8/site-packages/gensim/similarities/__init__.py:15: UserWarning: The gensim.similarities.levenshtein submodule is disabled, because the optional Levenshtein package <https://pypi.org/project/python-Levenshtein/> is unavailable. Install Levenhstein (e.g. `pip install python-Levenshtein`) to suppress this warning.\n",
      "  warnings.warn(msg)\n"
     ]
    }
   ],
   "source": [
    "from gensim.models import KeyedVectors\n",
    "import time"
   ]
  },
  {
   "cell_type": "code",
   "execution_count": 4,
   "id": "d7cf822a",
   "metadata": {},
   "outputs": [
    {
     "name": "stdout",
     "output_type": "stream",
     "text": [
      "797.5861277580261\n"
     ]
    }
   ],
   "source": [
    "t0 = time.time()\n",
    "word2vec = KeyedVectors.load_word2vec_format('/root/pretrain-models/word2vec/Tencent_AILab_ChineseEmbedding.txt', binary=False)\n",
    "print(time.time() - t0)"
   ]
  },
  {
   "cell_type": "code",
   "execution_count": 4,
   "id": "7592a836",
   "metadata": {},
   "outputs": [
    {
     "name": "stdout",
     "output_type": "stream",
     "text": [
      "6.427666187286377\n"
     ]
    }
   ],
   "source": [
    "t0 = time.time()\n",
    "word2vec = KeyedVectors.load('/root/pretrain-models/word2vec/Tencent_AILab_ChineseEmbedding.bin', mmap='r')\n",
    "print(time.time() - t0)"
   ]
  },
  {
   "cell_type": "code",
   "execution_count": 5,
   "id": "f03617ca",
   "metadata": {},
   "outputs": [],
   "source": [
    "title_exclude_list = [\n",
    "    \"交接\",\n",
    "    \"串联\",\n",
    "    \"新串联\",\n",
    "    \"稍后\",\n",
    "    \"提要\",\n",
    "    \"开始语\",\n",
    "    \"结束语\",\n",
    "    \"（连放\",\n",
    "    \"【连放\"\n",
    "]\n",
    "\n",
    "\n",
    "def check_file(file):\n",
    "    if os.path.exists(file):\n",
    "        os.remove(file)\n",
    "    fp = open(file, \"w\", encoding=\"utf-8\")\n",
    "    fp.close()\n",
    "\n",
    "\n",
    "def parse_html(txt):\n",
    "    # 解析txt\n",
    "    xml_str = unescape(txt)  # html -> html str\n",
    "    html = etree.HTML(xml_str)\n",
    "    result = html.xpath(\"//p//text()\")\n",
    "\n",
    "    # 去掉[正文]末尾的空格\n",
    "    result = [res.strip() for res in result]\n",
    "\n",
    "    # 提取正文和导语之后的内容\n",
    "    text = result[result.index(\"[正文]\"):result.index(\"[导语]\")]\n",
    "    introduction = result[result.index(\"[导语]\"):result.index(\"[编后]\")]\n",
    "    mark_txt = \"\"\n",
    "    for introduction_str in introduction:\n",
    "        if len(introduction_str) > 10:\n",
    "            mark_txt = introduction_str\n",
    "            break\n",
    "    if mark_txt == \"\":\n",
    "        for text_str in text:\n",
    "            if len(text_str) > 10 and text_str[0] not in (\"【\", \"[\", \"\") and not text_str.startswith(\"素材\"):\n",
    "                mark_txt = text_str\n",
    "                break\n",
    "    last_str = \"\"\n",
    "    for text_str in text[::-1]:\n",
    "        if len(text_str) > 10 and text_str[0] not in (\"【\", \"[\", \"\") and not text_str.startswith(\"东方卫视\"):\n",
    "            last_str += text_str\n",
    "            logger.info(last_str)\n",
    "            break\n",
    "    if last_str == \"\":\n",
    "        for introduction_str in introduction[::-1]:\n",
    "            if len(introduction_str) > 10:\n",
    "                last_str = introduction_str\n",
    "                break\n",
    "    txt_str = \"\"\n",
    "    for text_enum in text:\n",
    "           txt_str = txt_str + text_enum\n",
    "    intro_str = \"\"\n",
    "    for intro_enum in introduction:\n",
    "           intro_str = intro_str + intro_enum\n",
    "\n",
    "    for i in punctuation:\n",
    "        txt_str = txt_str.replace(i, \"\")\n",
    "    for i in string.punctuation:\n",
    "        txt_str = txt_str.replace(i, \"\")\n",
    "    txt_str = txt_str.replace(\" \", \"\")\n",
    "    txt_str = cn2an.transform(txt_str, \"an2cn\")\n",
    "\n",
    "    for i in punctuation:\n",
    "        intro_str = intro_str.replace(i, \"\")\n",
    "    for i in string.punctuation:\n",
    "        intro_str = intro_str.replace(i, \"\")\n",
    "    intro_str = intro_str.replace(\" \", \"\")\n",
    "    intro_str = cn2an.transform(intro_str, \"an2cn\")\n",
    "    return txt_str, intro_str, mark_txt, last_str\n",
    "\n",
    "\n",
    "def analysis_series_bill(xml_path):\n",
    "    # 解析xml\n",
    "    root = ET.parse(xml_path).getroot()\n",
    "    # 遍历txt\n",
    "    data = []\n",
    "    for node in root.iter(\"text\"):\n",
    "        # num\n",
    "        num = node.find(\"num\").text\n",
    "        title = node.find(\"title\").text\n",
    "        txt = node.find(\"txt\").text\n",
    "        words = node.find(\"words\").text\n",
    "\n",
    "        # 解析txt\n",
    "        text, introduction, mark_txt, last_txt = parse_html(txt)\n",
    "\n",
    "        audiotime = node.find(\"audiotime\").text\n",
    "        runtime = node.find(\"runtime\").text\n",
    "        totaltime = node.find(\"totaltime\").text\n",
    "\n",
    "        # for exclude_title in title_exclude_list:\n",
    "        #     if re.match(exclude_title, title, flags=0):\n",
    "        #         mark_txt = \"\"\n",
    "\n",
    "        line = {\"num\": num, \"title\": title, \"txt\": text, \"introduction\": introduction, \"audio_time\": audiotime,\n",
    "                \"runtime\": runtime, \"total_time\": totaltime, \"mark_txt\": mark_txt, \"last_txt\": last_txt, \"words\": words}\n",
    "        data.append(line)\n",
    "\n",
    "    return data"
   ]
  },
  {
   "cell_type": "code",
   "execution_count": 6,
   "id": "05ca8c7b",
   "metadata": {},
   "outputs": [
    {
     "ename": "NameError",
     "evalue": "name 'ET' is not defined",
     "output_type": "error",
     "traceback": [
      "\u001b[0;31m---------------------------------------------------------------------------\u001b[0m",
      "\u001b[0;31mNameError\u001b[0m                                 Traceback (most recent call last)",
      "\u001b[0;32m/tmp/ipykernel_55479/4148426288.py\u001b[0m in \u001b[0;36m<module>\u001b[0;34m\u001b[0m\n\u001b[0;32m----> 1\u001b[0;31m \u001b[0manalysis_series_bill\u001b[0m\u001b[0;34m(\u001b[0m\u001b[0;34m'../data/news/20210620.xml'\u001b[0m\u001b[0;34m)\u001b[0m\u001b[0;34m\u001b[0m\u001b[0;34m\u001b[0m\u001b[0m\n\u001b[0m",
      "\u001b[0;32m/tmp/ipykernel_55479/2137485209.py\u001b[0m in \u001b[0;36manalysis_series_bill\u001b[0;34m(xml_path)\u001b[0m\n\u001b[1;32m     77\u001b[0m \u001b[0;32mdef\u001b[0m \u001b[0manalysis_series_bill\u001b[0m\u001b[0;34m(\u001b[0m\u001b[0mxml_path\u001b[0m\u001b[0;34m)\u001b[0m\u001b[0;34m:\u001b[0m\u001b[0;34m\u001b[0m\u001b[0;34m\u001b[0m\u001b[0m\n\u001b[1;32m     78\u001b[0m     \u001b[0;31m# 解析xml\u001b[0m\u001b[0;34m\u001b[0m\u001b[0;34m\u001b[0m\u001b[0;34m\u001b[0m\u001b[0m\n\u001b[0;32m---> 79\u001b[0;31m     \u001b[0mroot\u001b[0m \u001b[0;34m=\u001b[0m \u001b[0mET\u001b[0m\u001b[0;34m.\u001b[0m\u001b[0mparse\u001b[0m\u001b[0;34m(\u001b[0m\u001b[0mxml_path\u001b[0m\u001b[0;34m)\u001b[0m\u001b[0;34m.\u001b[0m\u001b[0mgetroot\u001b[0m\u001b[0;34m(\u001b[0m\u001b[0;34m)\u001b[0m\u001b[0;34m\u001b[0m\u001b[0;34m\u001b[0m\u001b[0m\n\u001b[0m\u001b[1;32m     80\u001b[0m     \u001b[0;31m# 遍历txt\u001b[0m\u001b[0;34m\u001b[0m\u001b[0;34m\u001b[0m\u001b[0;34m\u001b[0m\u001b[0m\n\u001b[1;32m     81\u001b[0m     \u001b[0mdata\u001b[0m \u001b[0;34m=\u001b[0m \u001b[0;34m[\u001b[0m\u001b[0;34m]\u001b[0m\u001b[0;34m\u001b[0m\u001b[0;34m\u001b[0m\u001b[0m\n",
      "\u001b[0;31mNameError\u001b[0m: name 'ET' is not defined"
     ]
    }
   ],
   "source": [
    "analysis_series_bill('../data/news/20210620.xml')"
   ]
  },
  {
   "cell_type": "code",
   "execution_count": null,
   "id": "00f852bc",
   "metadata": {},
   "outputs": [],
   "source": []
  },
  {
   "cell_type": "code",
   "execution_count": null,
   "id": "a22712d0",
   "metadata": {},
   "outputs": [],
   "source": []
  },
  {
   "cell_type": "code",
   "execution_count": null,
   "id": "c56e3afc",
   "metadata": {},
   "outputs": [],
   "source": []
  },
  {
   "cell_type": "code",
   "execution_count": null,
   "id": "ed3c982a",
   "metadata": {},
   "outputs": [],
   "source": []
  },
  {
   "cell_type": "code",
   "execution_count": null,
   "id": "9d9a22fe",
   "metadata": {},
   "outputs": [],
   "source": []
  },
  {
   "cell_type": "code",
   "execution_count": null,
   "id": "fa34444a",
   "metadata": {},
   "outputs": [],
   "source": []
  },
  {
   "cell_type": "code",
   "execution_count": null,
   "id": "5b17c7ac",
   "metadata": {},
   "outputs": [],
   "source": []
  }
 ],
 "metadata": {
  "kernelspec": {
   "display_name": "Python 3 (ipykernel)",
   "language": "python",
   "name": "python3"
  },
  "language_info": {
   "codemirror_mode": {
    "name": "ipython",
    "version": 3
   },
   "file_extension": ".py",
   "mimetype": "text/x-python",
   "name": "python",
   "nbconvert_exporter": "python",
   "pygments_lexer": "ipython3",
   "version": "3.8.10"
  }
 },
 "nbformat": 4,
 "nbformat_minor": 5
}
