{
 "cells": [
  {
   "cell_type": "code",
   "execution_count": 1,
   "id": "ab1bdf99",
   "metadata": {},
   "outputs": [],
   "source": [
    "import json"
   ]
  },
  {
   "cell_type": "code",
   "execution_count": 6,
   "id": "4f2429e1",
   "metadata": {},
   "outputs": [],
   "source": [
    "with open('Audio-Play-Cus.json', 'w') as f:\n",
    "    data = {}\n",
    "    prefix_string = 'CUSAP'\n",
    "    for i in range(1000):\n",
    "        data[prefix_string+str(i)] = {\n",
    "            'text': '',\n",
    "            'intent': 'Audio-Play',\n",
    "            'slots': {\n",
    "                'name': '',\n",
    "                'artist': '',\n",
    "                'tag': '',\n",
    "                'language': '',\n",
    "                'play_setting': ''\n",
    "            }\n",
    "        }\n",
    "    json_data = json.dumps(data, indent=4, ensure_ascii=False)\n",
    "    f.write(json_data)"
   ]
  },
  {
   "cell_type": "code",
   "execution_count": 7,
   "id": "be5411d6",
   "metadata": {},
   "outputs": [],
   "source": [
    "with open('TVProgram-Play-Cus.json', 'w') as f:\n",
    "    data = {}\n",
    "    prefix_string = 'CUSTVPP'\n",
    "    for i in range(1000):\n",
    "        data[prefix_string+str(i)] = {\n",
    "            'text': '',\n",
    "            'intent': 'TVProgram-Play',\n",
    "            'slots': {\n",
    "                'channel': '',\n",
    "                'datetime_date': '',\n",
    "                'name': '',\n",
    "                'datetime_time': ''\n",
    "            }\n",
    "        }\n",
    "    json_data = json.dumps(data, indent=4, ensure_ascii=False)\n",
    "    f.write(json_data)"
   ]
  },
  {
   "cell_type": "code",
   "execution_count": 8,
   "id": "55a6f39f",
   "metadata": {},
   "outputs": [],
   "source": [
    "data = json.load(open('/root/EarleeNLP/data/datafountain/train.json', 'r'))\n",
    "with open('参考.json', 'w') as f:\n",
    "    res = {}\n",
    "    for idx, info_dict in data.items():\n",
    "        intent = info_dict['intent']\n",
    "        if intent in ['TVProgram-Play', 'Audio-Play']:\n",
    "            continue\n",
    "        res[idx] = info_dict\n",
    "        \n",
    "    json_data = json.dumps(data, indent=4, ensure_ascii=False)\n",
    "    f.write(json_data)"
   ]
  },
  {
   "cell_type": "code",
   "execution_count": null,
   "id": "4a208d52",
   "metadata": {},
   "outputs": [],
   "source": []
  },
  {
   "cell_type": "code",
   "execution_count": null,
   "id": "0828afb1",
   "metadata": {},
   "outputs": [],
   "source": []
  },
  {
   "cell_type": "code",
   "execution_count": null,
   "id": "bcaed588",
   "metadata": {},
   "outputs": [],
   "source": []
  },
  {
   "cell_type": "code",
   "execution_count": null,
   "id": "38124e8a",
   "metadata": {},
   "outputs": [],
   "source": []
  },
  {
   "cell_type": "code",
   "execution_count": null,
   "id": "71144646",
   "metadata": {},
   "outputs": [],
   "source": []
  },
  {
   "cell_type": "code",
   "execution_count": null,
   "id": "bd689ca9",
   "metadata": {},
   "outputs": [],
   "source": []
  },
  {
   "cell_type": "code",
   "execution_count": null,
   "id": "aff7c8fc",
   "metadata": {},
   "outputs": [],
   "source": []
  }
 ],
 "metadata": {
  "kernelspec": {
   "display_name": "Python 3 (ipykernel)",
   "language": "python",
   "name": "python3"
  },
  "language_info": {
   "codemirror_mode": {
    "name": "ipython",
    "version": 3
   },
   "file_extension": ".py",
   "mimetype": "text/x-python",
   "name": "python",
   "nbconvert_exporter": "python",
   "pygments_lexer": "ipython3",
   "version": "3.8.10"
  }
 },
 "nbformat": 4,
 "nbformat_minor": 5
}
