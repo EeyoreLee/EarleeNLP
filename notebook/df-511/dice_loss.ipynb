{
 "cells": [
  {
   "cell_type": "code",
   "execution_count": 15,
   "id": "e655b146",
   "metadata": {},
   "outputs": [],
   "source": [
    "from datasets import load_dataset\n",
    "from transformers import BertTokenizer"
   ]
  },
  {
   "cell_type": "code",
   "execution_count": 11,
   "id": "ec7a5cb2",
   "metadata": {},
   "outputs": [
    {
     "name": "stdout",
     "output_type": "stream",
     "text": [
      "Downloading and preparing dataset msra_ner/msra_ner (download: 14.45 MiB, generated: 34.30 MiB, post-processed: Unknown size, total: 48.75 MiB) to /root/.cache/huggingface/datasets/msra_ner/msra_ner/1.0.0/5ce47bc7f8da59fd9d0ad08d185fa72f5576b614f136a56e82c7669d22ea5cfe...\n"
     ]
    },
    {
     "data": {
      "application/vnd.jupyter.widget-view+json": {
       "model_id": "3917f62d43fb4687b3bc2247ca5c2e78",
       "version_major": 2,
       "version_minor": 0
      },
      "text/plain": [
       "Downloading:   0%|          | 0.00/3.54M [00:00<?, ?B/s]"
      ]
     },
     "metadata": {},
     "output_type": "display_data"
    },
    {
     "data": {
      "application/vnd.jupyter.widget-view+json": {
       "model_id": "d17a25219f9d48f88ee804842f0e3e0b",
       "version_major": 2,
       "version_minor": 0
      },
      "text/plain": [
       "Downloading:   0%|          | 0.00/267k [00:00<?, ?B/s]"
      ]
     },
     "metadata": {},
     "output_type": "display_data"
    },
    {
     "data": {
      "application/vnd.jupyter.widget-view+json": {
       "model_id": "",
       "version_major": 2,
       "version_minor": 0
      },
      "text/plain": [
       "0 examples [00:00, ? examples/s]"
      ]
     },
     "metadata": {},
     "output_type": "display_data"
    },
    {
     "data": {
      "application/vnd.jupyter.widget-view+json": {
       "model_id": "",
       "version_major": 2,
       "version_minor": 0
      },
      "text/plain": [
       "0 examples [00:00, ? examples/s]"
      ]
     },
     "metadata": {},
     "output_type": "display_data"
    },
    {
     "name": "stdout",
     "output_type": "stream",
     "text": [
      "Dataset msra_ner downloaded and prepared to /root/.cache/huggingface/datasets/msra_ner/msra_ner/1.0.0/5ce47bc7f8da59fd9d0ad08d185fa72f5576b614f136a56e82c7669d22ea5cfe. Subsequent calls will reuse this data.\n"
     ]
    },
    {
     "data": {
      "text/plain": [
       "Dataset({\n",
       "    features: ['id', 'tokens', 'ner_tags'],\n",
       "    num_rows: 45001\n",
       "})"
      ]
     },
     "execution_count": 11,
     "metadata": {},
     "output_type": "execute_result"
    }
   ],
   "source": [
    "ds_train = load_dataset('msra_ner', split='train')\n",
    "ds_train"
   ]
  },
  {
   "cell_type": "code",
   "execution_count": 21,
   "id": "391d3817",
   "metadata": {},
   "outputs": [],
   "source": [
    "tokenizer = BertTokenizer.from_pretrained('/root/pretrain-models/bert-base-chinese')"
   ]
  },
  {
   "cell_type": "code",
   "execution_count": 23,
   "id": "5793a6e4",
   "metadata": {},
   "outputs": [
    {
     "data": {
      "text/plain": [
       "DatasetInfo(description='The Third International Chinese Language\\nProcessing Bakeoff was held in Spring\\n2006 to assess the state of the art in two\\nimportant tasks: word segmentation and\\nnamed entity recognition. Twenty-nine\\ngroups submitted result sets in the two\\ntasks across two tracks and a total of five\\ncorpora. We found strong results in both\\ntasks as well as continuing challenges.\\n\\nMSRA NER is one of the provided dataset.\\nThere are three types of NE, PER (person),\\nORG (organization) and LOC (location).\\nThe dataset is in the BIO scheme.\\n\\nFor more details see https://faculty.washington.edu/levow/papers/sighan06.pdf\\n', citation='@inproceedings{levow2006third,\\n  author    = {Gina{-}Anne Levow},\\n  title     = {The Third International Chinese Language Processing Bakeoff: Word\\n               Segmentation and Named Entity Recognition},\\n  booktitle = {SIGHAN@COLING/ACL},\\n  pages     = {108--117},\\n  publisher = {Association for Computational Linguistics},\\n  year      = {2006}\\n}\\n', homepage='https://www.microsoft.com/en-us/download/details.aspx?id=52531', license='', features={'id': Value(dtype='string', id=None), 'tokens': Sequence(feature=Value(dtype='string', id=None), length=-1, id=None), 'ner_tags': Sequence(feature=ClassLabel(num_classes=7, names=['O', 'B-PER', 'I-PER', 'B-ORG', 'I-ORG', 'B-LOC', 'I-LOC'], names_file=None, id=None), length=-1, id=None)}, post_processed=None, supervised_keys=None, task_templates=None, builder_name='msra_ner', config_name='msra_ner', version=1.0.0, splits={'train': SplitInfo(name='train', num_bytes=33323074, num_examples=45001, dataset_name='msra_ner'), 'test': SplitInfo(name='test', num_bytes=2642934, num_examples=3443, dataset_name='msra_ner')}, download_checksums={'https://raw.githubusercontent.com/OYE93/Chinese-NLP-Corpus/master/NER/MSRA/msra_train_bio.txt': {'num_bytes': 14037265, 'checksum': 'b403d1318c5289917ad2ca4136279592521684748327e93f1bf49a3845a40ac7'}, 'https://raw.githubusercontent.com/OYE93/Chinese-NLP-Corpus/master/NER/MSRA/msra_test_bio.txt': {'num_bytes': 1119341, 'checksum': '2be8e580bcb22e9086e4403d82a7ec0f6e18019ebef35b0fd52941724bdf89a3'}}, download_size=15156606, post_processing_size=None, dataset_size=35966008, size_in_bytes=51122614)"
      ]
     },
     "execution_count": 23,
     "metadata": {},
     "output_type": "execute_result"
    }
   ],
   "source": [
    "ds_train.info"
   ]
  },
  {
   "cell_type": "code",
   "execution_count": null,
   "id": "f30a0201",
   "metadata": {},
   "outputs": [],
   "source": []
  },
  {
   "cell_type": "code",
   "execution_count": null,
   "id": "b2e2a8fa",
   "metadata": {},
   "outputs": [],
   "source": []
  },
  {
   "cell_type": "code",
   "execution_count": null,
   "id": "8b8a1b31",
   "metadata": {},
   "outputs": [],
   "source": []
  },
  {
   "cell_type": "code",
   "execution_count": null,
   "id": "2ec75e77",
   "metadata": {},
   "outputs": [],
   "source": []
  },
  {
   "cell_type": "code",
   "execution_count": null,
   "id": "b346db80",
   "metadata": {},
   "outputs": [],
   "source": []
  },
  {
   "cell_type": "code",
   "execution_count": null,
   "id": "5aa1c5f6",
   "metadata": {},
   "outputs": [],
   "source": []
  }
 ],
 "metadata": {
  "kernelspec": {
   "display_name": "Python 3 (ipykernel)",
   "language": "python",
   "name": "python3"
  },
  "language_info": {
   "codemirror_mode": {
    "name": "ipython",
    "version": 3
   },
   "file_extension": ".py",
   "mimetype": "text/x-python",
   "name": "python",
   "nbconvert_exporter": "python",
   "pygments_lexer": "ipython3",
   "version": "3.8.10"
  }
 },
 "nbformat": 4,
 "nbformat_minor": 5
}
